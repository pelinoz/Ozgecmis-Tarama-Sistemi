{
 "cells": [
  {
   "cell_type": "code",
   "execution_count": null,
   "id": "281b3074",
   "metadata": {},
   "outputs": [],
   "source": [
    "import numpy as np\n",
    "import pandas as pd\n",
    "import re\n",
    "import plotly.express as px"
   ]
  },
  {
   "cell_type": "code",
   "execution_count": null,
   "id": "497a58f4",
   "metadata": {},
   "outputs": [],
   "source": [
    "resume = pd.read_csv ('extract_skills.csv')\n",
    "resume"
   ]
  },
  {
   "cell_type": "code",
   "execution_count": null,
   "id": "a98d1a60",
   "metadata": {},
   "outputs": [],
   "source": [
    "resume['Skills'].loc[28]"
   ]
  },
  {
   "cell_type": "code",
   "execution_count": null,
   "id": "12929e62",
   "metadata": {},
   "outputs": [],
   "source": [
    "skill_set = resume['Skills']\n",
    "def change_list_to_words(text):\n",
    "    a = re.sub(r'\\'', '', text)\n",
    "    b = re.sub(r'\\[|\\]', '',a)\n",
    "    c = re.split(r\"[,]\\s*\", b)\n",
    "    return c"
   ]
  },
  {
   "cell_type": "code",
   "execution_count": null,
   "id": "371d9c0c",
   "metadata": {},
   "outputs": [],
   "source": [
    "Total_skills = []\n",
    "for skillset in skill_set:\n",
    "    skills = change_list_to_words(skillset)\n",
    "    for skill in skills:\n",
    "        Total_skills.append(skill.lower())\n",
    "fig = px.histogram(\n",
    "    x=Total_skills,\n",
    "    labels={\"x\": \"Skills\"},\n",
    "    title=f\"Yeteneklerin Dağılımı\",\n",
    ").update_xaxes(categoryorder=\"total descending\")\n",
    "fig.show()"
   ]
  },
  {
   "cell_type": "code",
   "execution_count": null,
   "id": "229811d2",
   "metadata": {},
   "outputs": [],
   "source": [
    "#Sørensen–Dice Katsayısı: Dice(A, B) = 2 * |A ∩ B| / (|A| + |B|)\n",
    "def DSC_score(resume, resume_compare):\n",
    "    lst = [value for value in resume if value in resume_compare]\n",
    "    score = 2*len(lst)/(len(resume) + len(resume_compare))\n",
    "    return score"
   ]
  },
  {
   "cell_type": "code",
   "execution_count": null,
   "id": "94ebed5f",
   "metadata": {},
   "outputs": [],
   "source": [
    "example = ['data science', 'engineering', 'computer science', 'pandas', 'sentiment analysis', 'nlp', 'numpy', 'algorithms', 'selenium', 'mysql', 'python', 'deep learning', 'machine learning']\n",
    "for k in range(len(example)):\n",
    "    example[k] = example[k].lower()\n",
    "similarity_score = []\n",
    "for i in range(962):\n",
    "    skills = change_list_to_words(skill_set[i])\n",
    "    for j in range(len(skills)):\n",
    "        skills[j] = skills[j].lower()\n",
    "    skills = list(set(skills))\n",
    "    score = DSC_score(example, skills) \n",
    "    string = \"{} -- Resume {}\".format(score, i)\n",
    "    similarity_score.append(string)\n",
    "    \n",
    "\n",
    "similarity_score.sort(reverse=True) \n",
    "print('The firt tenth matches for the first test data are:', similarity_score[:10])"
   ]
  },
  {
   "cell_type": "code",
   "execution_count": null,
   "id": "5c3fb73a",
   "metadata": {},
   "outputs": [],
   "source": [
    "import spacy\n",
    "\n",
    "nlp = spacy.load('en_core_web_md')"
   ]
  },
  {
   "cell_type": "code",
   "execution_count": null,
   "id": "38fba100",
   "metadata": {},
   "outputs": [],
   "source": [
    "similarity_score= []\n",
    "eg =  ' '.join(str(e) for e in example)\n",
    "for i in range(962):\n",
    "    x = change_list_to_words(resume['Skills'].loc[i])\n",
    "    y =  ' '.join(str(e) for e in x)\n",
    "    nlp_score = nlp(y).similarity(nlp(eg))\n",
    "    similarity_score.append(nlp_score)\n",
    "resume['Similarity'] = similarity_score\n",
    "resume"
   ]
  },
  {
   "cell_type": "code",
   "execution_count": null,
   "id": "8d5348e3",
   "metadata": {},
   "outputs": [],
   "source": [
    "resume_rank = resume.sort_values(by=['Similarity'], ascending=False)\n",
    "resume_rank.head()"
   ]
  },
  {
   "cell_type": "code",
   "execution_count": null,
   "id": "76cf9a23",
   "metadata": {},
   "outputs": [],
   "source": [
    "print(resume['Skills'].loc[8])\n",
    "print(resume['Skills'].loc[28])\n",
    "print(resume['Skills'].loc[38])\n",
    "print(resume['Skills'].loc[18])"
   ]
  },
  {
   "cell_type": "code",
   "execution_count": null,
   "id": "12b6f923",
   "metadata": {},
   "outputs": [],
   "source": []
  }
 ],
 "metadata": {
  "kernelspec": {
   "display_name": "Python 3 (ipykernel)",
   "language": "python",
   "name": "python3"
  },
  "language_info": {
   "codemirror_mode": {
    "name": "ipython",
    "version": 3
   },
   "file_extension": ".py",
   "mimetype": "text/x-python",
   "name": "python",
   "nbconvert_exporter": "python",
   "pygments_lexer": "ipython3",
   "version": "3.9.16"
  }
 },
 "nbformat": 4,
 "nbformat_minor": 5
}
