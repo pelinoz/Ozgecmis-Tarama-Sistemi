{
 "cells": [
  {
   "cell_type": "code",
   "execution_count": null,
   "id": "f5a0d408",
   "metadata": {},
   "outputs": [],
   "source": [
    "import jsonlines\n",
    "import pandas as pd\n",
    "import numpy as np\n",
    "import re\n",
    "import spacy"
   ]
  },
  {
   "cell_type": "code",
   "execution_count": null,
   "id": "d1f6dfd1",
   "metadata": {},
   "outputs": [],
   "source": [
    "resume = pd.read_csv ('cleaned_resume.csv')\n",
    "resume"
   ]
  },
  {
   "cell_type": "code",
   "execution_count": null,
   "id": "b0e8353b",
   "metadata": {},
   "outputs": [],
   "source": [
    "nlp = spacy.load('en_core_web_md')"
   ]
  },
  {
   "cell_type": "code",
   "execution_count": null,
   "id": "230e6120",
   "metadata": {},
   "outputs": [],
   "source": [
    "from spacy.pipeline import EntityRuler\n",
    "ruler = nlp.add_pipe(\"entity_ruler\", name=\"ruler\", before=\"ner\")\n",
    "ruler.from_disk(\"jz_skill_patterns.jsonl\")\n",
    "nlp.pipe_names"
   ]
  },
  {
   "cell_type": "code",
   "execution_count": null,
   "id": "1f8b43df",
   "metadata": {},
   "outputs": [],
   "source": [
    "def get_skills(text):\n",
    "    doc = nlp(text)\n",
    "    myset = []\n",
    "    subset = []\n",
    "    for ent in doc.ents:\n",
    "        if ent.label_ == \"SKILL\":\n",
    "            subset.append(ent.text)\n",
    "    myset.append(subset)\n",
    "    return subset\n",
    "\n",
    "\n",
    "def unique_skills(x):\n",
    "    return list(set(x))"
   ]
  },
  {
   "cell_type": "code",
   "execution_count": null,
   "id": "f293c4a0",
   "metadata": {},
   "outputs": [],
   "source": [
    "def clean(text):\n",
    "    delete_n = re.sub(r'\\\\n', ' ', text)\n",
    "    delete_x = re.sub(r'\\\\x[a-z0-9]+', ' ', delete_n)\n",
    "    return delete_x"
   ]
  },
  {
   "cell_type": "code",
   "execution_count": null,
   "id": "a0b4cdf3",
   "metadata": {},
   "outputs": [],
   "source": [
    "clean_text = []\n",
    "for i in range(962):\n",
    "    resume_clean = clean(resume['Cleaned_Resume'].loc[i])\n",
    "    clean_text.append(resume_clean)"
   ]
  },
  {
   "cell_type": "code",
   "execution_count": null,
   "id": "3fb7dcd3",
   "metadata": {},
   "outputs": [],
   "source": [
    "resume_skills = []\n",
    "for i in range(962):\n",
    "    resume_extract = unique_skills(get_skills(resume['Cleaned_Resume'].loc[i]))\n",
    "    resume_skills.append(resume_extract)"
   ]
  },
  {
   "cell_type": "code",
   "execution_count": null,
   "id": "e64a8f57",
   "metadata": {},
   "outputs": [],
   "source": [
    "resume['Skills'] = resume_skills\n",
    "resume"
   ]
  },
  {
   "cell_type": "code",
   "execution_count": null,
   "id": "450fba03",
   "metadata": {},
   "outputs": [],
   "source": [
    "resume.to_csv('extract_skills.csv', index=False)"
   ]
  }
 ],
 "metadata": {
  "kernelspec": {
   "display_name": "Python 3 (ipykernel)",
   "language": "python",
   "name": "python3"
  },
  "language_info": {
   "codemirror_mode": {
    "name": "ipython",
    "version": 3
   },
   "file_extension": ".py",
   "mimetype": "text/x-python",
   "name": "python",
   "nbconvert_exporter": "python",
   "pygments_lexer": "ipython3",
   "version": "3.9.16"
  }
 },
 "nbformat": 4,
 "nbformat_minor": 5
}
