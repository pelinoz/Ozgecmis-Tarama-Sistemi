{
 "cells": [
  {
   "cell_type": "code",
   "execution_count": null,
   "metadata": {
    "execution": {
     "iopub.execute_input": "2021-12-05T18:29:39.472497Z",
     "iopub.status.busy": "2021-12-05T18:29:39.471804Z",
     "iopub.status.idle": "2021-12-05T18:29:40.758360Z",
     "shell.execute_reply": "2021-12-05T18:29:40.757624Z",
     "shell.execute_reply.started": "2021-12-05T18:27:39.427114Z"
    },
    "papermill": {
     "duration": 1.309482,
     "end_time": "2021-12-05T18:29:40.758566",
     "exception": false,
     "start_time": "2021-12-05T18:29:39.449084",
     "status": "completed"
    },
    "tags": []
   },
   "outputs": [],
   "source": [
    "import numpy as np\n",
    "import pandas as pd\n",
    "import matplotlib.pyplot as plt\n",
    "import warnings\n",
    "warnings.filterwarnings('ignore')\n",
    "from sklearn.naive_bayes import MultinomialNB\n",
    "from sklearn.multiclass import OneVsRestClassifier\n",
    "from sklearn import metrics\n",
    "from sklearn.metrics import accuracy_score\n",
    "from pandas.plotting import scatter_matrix\n",
    "from sklearn.neighbors import KNeighborsClassifier\n",
    "from sklearn import metrics\n",
    "import nltk\n",
    "from io import StringIO\n"
   ]
  },
  {
   "cell_type": "code",
   "execution_count": null,
   "metadata": {},
   "outputs": [],
   "source": [
    "resumeDataSet = pd.read_csv('UpdatedResumeDataSet.csv' ,encoding='utf-8')\n",
    "resumeDataSet.head()"
   ]
  },
  {
   "cell_type": "code",
   "execution_count": null,
   "metadata": {
    "execution": {
     "iopub.execute_input": "2021-12-05T18:29:40.808454Z",
     "iopub.status.busy": "2021-12-05T18:29:40.807694Z",
     "iopub.status.idle": "2021-12-05T18:29:40.811690Z",
     "shell.execute_reply": "2021-12-05T18:29:40.811070Z",
     "shell.execute_reply.started": "2021-12-05T18:27:40.837004Z"
    },
    "papermill": {
     "duration": 0.036945,
     "end_time": "2021-12-05T18:29:40.811834",
     "exception": false,
     "start_time": "2021-12-05T18:29:40.774889",
     "status": "completed"
    },
    "tags": []
   },
   "outputs": [],
   "source": [
    "resumeDataSet.info()"
   ]
  },
  {
   "cell_type": "code",
   "execution_count": null,
   "metadata": {
    "execution": {
     "iopub.execute_input": "2021-12-05T18:29:40.850036Z",
     "iopub.status.busy": "2021-12-05T18:29:40.849345Z",
     "iopub.status.idle": "2021-12-05T18:29:40.853203Z",
     "shell.execute_reply": "2021-12-05T18:29:40.852744Z",
     "shell.execute_reply.started": "2021-12-05T18:27:40.863570Z"
    },
    "papermill": {
     "duration": 0.025247,
     "end_time": "2021-12-05T18:29:40.853388",
     "exception": false,
     "start_time": "2021-12-05T18:29:40.828141",
     "status": "completed"
    },
    "tags": []
   },
   "outputs": [],
   "source": [
    "print (\"Özgeçmiş kategorilerini görüntüleme:\\n\\n \")\n",
    "print (resumeDataSet['Category'].unique())"
   ]
  },
  {
   "cell_type": "code",
   "execution_count": null,
   "metadata": {
    "execution": {
     "iopub.execute_input": "2021-12-05T18:29:40.894521Z",
     "iopub.status.busy": "2021-12-05T18:29:40.893911Z",
     "iopub.status.idle": "2021-12-05T18:29:40.897645Z",
     "shell.execute_reply": "2021-12-05T18:29:40.897170Z",
     "shell.execute_reply.started": "2021-12-05T18:27:40.880189Z"
    },
    "papermill": {
     "duration": 0.027554,
     "end_time": "2021-12-05T18:29:40.897824",
     "exception": false,
     "start_time": "2021-12-05T18:29:40.870270",
     "status": "completed"
    },
    "tags": []
   },
   "outputs": [],
   "source": [
    "print (\"Özgeçmiş kategorilerini ve her kategoriye ait kayıt sayısını görüntüleme:\\n\\n\")\n",
    "print (resumeDataSet['Category'].value_counts())"
   ]
  },
  {
   "cell_type": "code",
   "execution_count": null,
   "metadata": {},
   "outputs": [],
   "source": [
    "import seaborn as sns\n",
    "plt.figure(figsize=(20,5))\n",
    "plt.xticks(rotation=90)\n",
    "ax=sns.countplot(x=\"Category\", data=resumeDataSet)\n",
    "for p in ax.patches:\n",
    "    ax.annotate(str(p.get_height()), (p.get_x() * 1.01 , p.get_height() * 1.01))\n",
    "plt.grid()"
   ]
  },
  {
   "cell_type": "code",
   "execution_count": null,
   "metadata": {},
   "outputs": [],
   "source": [
    "from matplotlib.gridspec import GridSpec\n",
    "targetCounts = resumeDataSet['Category'].value_counts()\n",
    "targetLabels  = resumeDataSet['Category'].unique()\n",
    "# Make square figures and axes\n",
    "plt.figure(1, figsize=(22,22))\n",
    "the_grid = GridSpec(2, 2)\n",
    "\n",
    "\n",
    "cmap = plt.get_cmap('coolwarm')\n",
    "plt.subplot(the_grid[0, 1], aspect=1, title='CATEGORY DISTRIBUTION')\n",
    "\n",
    "source_pie = plt.pie(targetCounts, labels=targetLabels, autopct='%1.1f%%', shadow=True)\n",
    "plt.show()"
   ]
  },
  {
   "cell_type": "code",
   "execution_count": null,
   "metadata": {},
   "outputs": [],
   "source": [
    "data = pd.read_csv('UpdatedResumeDataSet.csv' ,encoding='utf-8')"
   ]
  },
  {
   "cell_type": "code",
   "execution_count": null,
   "metadata": {},
   "outputs": [],
   "source": [
    "\n",
    "import re\n",
    "import string\n",
    "import nltk\n",
    "nltk.download('stopwords')\n",
    "stopwords = nltk.corpus.stopwords.words('english')\n",
    "\n",
    "def clean_text(text):\n",
    "    #convert text to lowercase\n",
    "    text = text.lower() \n",
    "    #remove any numeric characters\n",
    "    text = ''.join([word for word in text if not word.isdigit()]) \n",
    "\n",
    "    #text = [word for word in text if re.search(\"\\d\", word)== None]\n",
    "    # remove URLs\n",
    "    text = re.sub('http\\S+\\s*', ' ', text)  \n",
    "    # remove RT and cc\n",
    "    text = re.sub('RT|cc', ' ', text)\n",
    "    # remove hashtags\n",
    "    text = re.sub('#\\S+', '', text)  \n",
    "    # remove mentions\n",
    "    text = re.sub('@\\S+', '  ', text)  \n",
    "    #punctuations removal\n",
    "    text = \"\".join([word for word in text if word not in string.punctuation])\n",
    "    text = re.sub(\"\\W\", \" \", str(text))\n",
    "    #stopwords removal\n",
    "    ext = [word for word in text.split() if word not in stopwords]\n",
    "    #replace consecutive non-ASCII characters with a space\n",
    "    text = re.sub(r'[^\\x00-\\x7f]',r' ', text) \n",
    "    #extra whitespace removal\n",
    "    text = re.sub('\\s+', ' ', text)\n",
    "    return text\n",
    "\n",
    "data['Resume'] = data['Resume'].apply(lambda x: clean_text(x))\n"
   ]
  },
  {
   "cell_type": "code",
   "execution_count": null,
   "metadata": {},
   "outputs": [],
   "source": [
    "data.rename(columns={'Resume': 'Cleaned_Resume'}, inplace=True)"
   ]
  },
  {
   "cell_type": "code",
   "execution_count": null,
   "metadata": {},
   "outputs": [],
   "source": [
    "data"
   ]
  },
  {
   "cell_type": "code",
   "execution_count": null,
   "metadata": {},
   "outputs": [],
   "source": [
    "data.to_csv('cleaned_resume.csv', index=False)"
   ]
  },
  {
   "cell_type": "code",
   "execution_count": null,
   "metadata": {},
   "outputs": [],
   "source": [
    "resume = pd.read_csv('cleaned_resume.csv' ,encoding='utf-8')"
   ]
  },
  {
   "cell_type": "code",
   "execution_count": null,
   "metadata": {},
   "outputs": [],
   "source": [
    "import nltk\n",
    "from nltk.corpus import stopwords\n",
    "import string\n",
    "from wordcloud import WordCloud\n",
    "\n",
    "import nltk\n",
    "nltk.download('stopwords')\n",
    "from nltk.corpus import stopwords\n",
    "\n",
    "stopwords = list(stopwords.words('english')) + ['``', \"''\"]\n",
    "\n",
    "totalWords =[]\n",
    "Sentences = data['Cleaned_Resume'].values\n",
    "cleanedSentences = \"\"\n",
    "for records in Sentences:\n",
    "    cleanedText = clean_text(records)\n",
    "    cleanedSentences += cleanedText\n",
    "    requiredWords = nltk.word_tokenize(cleanedText)\n",
    "    for word in requiredWords:\n",
    "        if word not in stopwords and word not in string.punctuation:\n",
    "            totalWords.append(word)\n",
    "    \n",
    "wordfreqdist = nltk.FreqDist(totalWords)\n",
    "mostcommon = wordfreqdist.most_common(50)\n",
    "print(mostcommon)"
   ]
  },
  {
   "cell_type": "code",
   "execution_count": null,
   "metadata": {
    "scrolled": false
   },
   "outputs": [],
   "source": [
    "wc = WordCloud().generate(cleanedSentences)\n",
    "plt.figure(figsize=(10,10))\n",
    "plt.imshow(wc, interpolation='bilinear')\n",
    "plt.axis(\"off\")\n",
    "plt.show()"
   ]
  },
  {
   "cell_type": "code",
   "execution_count": null,
   "metadata": {},
   "outputs": [],
   "source": [
    "del resume #clearing the space occupied "
   ]
  },
  {
   "cell_type": "code",
   "execution_count": null,
   "metadata": {},
   "outputs": [],
   "source": [
    "from sklearn.model_selection import train_test_split\n",
    "from sklearn.feature_extraction.text import TfidfVectorizer\n",
    "from scipy.sparse import hstack\n",
    "\n",
    "requiredText = data['Cleaned_Resume'].values\n",
    "requiredTarget = data['Category'].values\n",
    "\n",
    "word_vectorizer = TfidfVectorizer(\n",
    "    sublinear_tf=True,\n",
    "    stop_words='english')\n",
    "word_vectorizer.fit(requiredText)\n",
    "WordFeatures = word_vectorizer.transform(requiredText)\n",
    "\n",
    "print (\"Feature completed .....\")\n",
    "\n",
    "X_train,X_test,y_train,y_test = train_test_split(WordFeatures,requiredTarget,random_state=42, test_size=0.2,\n",
    "                                                 shuffle=True, stratify=requiredTarget)\n",
    "print(X_train.shape)\n",
    "print(X_test.shape)"
   ]
  },
  {
   "cell_type": "code",
   "execution_count": null,
   "metadata": {},
   "outputs": [],
   "source": [
    "clf = OneVsRestClassifier(KNeighborsClassifier())\n",
    "clf.fit(X_train, y_train)\n",
    "prediction = clf.predict(X_test)\n",
    "print('Accuracy of KNeighbors Classifier on training set: {:.2f}'.format(clf.score(X_train, y_train)))\n",
    "print('Accuracy of KNeighbors Classifier on test set:     {:.2f}'.format(clf.score(X_test, y_test)))"
   ]
  },
  {
   "cell_type": "code",
   "execution_count": null,
   "metadata": {},
   "outputs": [],
   "source": [
    "print(\"\\n Classification report for classifier %s:\\n%s\\n\" % (clf, metrics.classification_report(y_test, prediction)))"
   ]
  },
  {
   "cell_type": "code",
   "execution_count": null,
   "metadata": {},
   "outputs": [],
   "source": []
  }
 ],
 "metadata": {
  "kernelspec": {
   "display_name": "Python 3 (ipykernel)",
   "language": "python",
   "name": "python3"
  },
  "language_info": {
   "codemirror_mode": {
    "name": "ipython",
    "version": 3
   },
   "file_extension": ".py",
   "mimetype": "text/x-python",
   "name": "python",
   "nbconvert_exporter": "python",
   "pygments_lexer": "ipython3",
   "version": "3.9.16"
  },
  "papermill": {
   "default_parameters": {},
   "duration": 21.516454,
   "end_time": "2021-12-05T18:29:55.411797",
   "environment_variables": {},
   "exception": null,
   "input_path": "__notebook__.ipynb",
   "output_path": "__notebook__.ipynb",
   "parameters": {},
   "start_time": "2021-12-05T18:29:33.895343",
   "version": "2.2.2"
  }
 },
 "nbformat": 4,
 "nbformat_minor": 4
}
